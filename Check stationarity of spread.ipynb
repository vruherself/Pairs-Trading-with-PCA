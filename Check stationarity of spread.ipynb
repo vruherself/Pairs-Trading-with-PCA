{
 "cells": [
  {
   "cell_type": "markdown",
   "id": "valuable-order",
   "metadata": {},
   "source": [
    "# Pairs trading and mean reversion"
   ]
  },
  {
   "cell_type": "markdown",
   "id": "instrumental-homework",
   "metadata": {},
   "source": [
    "## Checking if pair of stocks is cointegrated"
   ]
  },
  {
   "cell_type": "code",
   "execution_count": 1,
   "id": "buried-intermediate",
   "metadata": {},
   "outputs": [],
   "source": [
    "import numpy as np\n",
    "import pandas as pd\n",
    "from sklearn.linear_model import LinearRegression\n",
    "from statsmodels.tsa.stattools import adfuller\n",
    "import matplotlib.pyplot as plt\n",
    "from collections import OrderedDict\n",
    "#from tests import project_test, assert_output"
   ]
  },
  {
   "cell_type": "code",
   "execution_count": 3,
   "id": "vanilla-belarus",
   "metadata": {},
   "outputs": [],
   "source": [
    "#fixing a seed so that we can reproduce the results\n",
    "np.random.seed(2021)"
   ]
  },
  {
   "cell_type": "code",
   "execution_count": 4,
   "id": "declared-sleep",
   "metadata": {},
   "outputs": [],
   "source": [
    "# use returns to create a price series\n",
    "drift = 100\n",
    "r1 = np.random.normal(0, 1, 1000) \n",
    "s1 = pd.Series(np.cumsum(r1), name='s1') + drift\n",
    "\n",
    "#make second series\n",
    "offset = 10\n",
    "noise = np.random.normal(0, 1, 1000)\n",
    "s2 = s1 + offset + noise\n",
    "s2.name = 's2'\n",
    "\n",
    "## hedge ratio\n",
    "lr = LinearRegression()\n",
    "lr.fit(s1.values.reshape(-1,1),s2.values.reshape(-1,1))\n",
    "hedge_ratio = lr.coef_[0][0]\n",
    "\n",
    "#spread\n",
    "spread = s2 - s1 * hedge_ratio"
   ]
  },
  {
   "cell_type": "code",
   "execution_count": 29,
   "id": "collaborative-affiliate",
   "metadata": {},
   "outputs": [],
   "source": [
    "def is_spread_stationary(spread, p_level=0.05):\n",
    "    \"\"\"\n",
    "    spread: obtained from linear combination of two series with a hedge ratio\n",
    "    \n",
    "    p_level: level of significance required to reject null hypothesis of non-stationarity\n",
    "    \n",
    "    returns:\n",
    "        True if spread can be considered stationary\n",
    "        False otherwise\n",
    "    \"\"\"\n",
    "    adf_result = adfuller(spread)\n",
    "    pvalue = adf_result[1]\n",
    "    print(f\"pvalue {pvalue:.4f}\")\n",
    "    if pvalue <= p_level:\n",
    "        print(f\"pvalue is <= {p_level}, assume spread is stationary\")\n",
    "        return True\n",
    "    else:\n",
    "        print(f\"pvalue is > {p_level}, assume spread is not stationary\")\n",
    "        return False\n",
    "    \n"
   ]
  },
  {
   "cell_type": "code",
   "execution_count": 30,
   "id": "statewide-update",
   "metadata": {},
   "outputs": [
    {
     "name": "stdout",
     "output_type": "stream",
     "text": [
      "pvalue 0.0000\n",
      "pvalue is <= 0.05, assume spread is stationary\n"
     ]
    },
    {
     "data": {
      "text/plain": [
       "True"
      ]
     },
     "execution_count": 30,
     "metadata": {},
     "output_type": "execute_result"
    }
   ],
   "source": [
    "is_spread_stationary(spread)"
   ]
  },
  {
   "cell_type": "code",
   "execution_count": null,
   "id": "equal-elimination",
   "metadata": {},
   "outputs": [],
   "source": []
  }
 ],
 "metadata": {
  "kernelspec": {
   "display_name": "Python 3",
   "language": "python",
   "name": "python3"
  },
  "language_info": {
   "codemirror_mode": {
    "name": "ipython",
    "version": 3
   },
   "file_extension": ".py",
   "mimetype": "text/x-python",
   "name": "python",
   "nbconvert_exporter": "python",
   "pygments_lexer": "ipython3",
   "version": "3.7.6"
  }
 },
 "nbformat": 4,
 "nbformat_minor": 5
}
